{
 "cells": [
  {
   "cell_type": "markdown",
   "metadata": {},
   "source": [
    "# github homework\n",
    "\n",
    "\n",
    "### Deadline for submission is Sep 11, noon.\n",
    "\n",
    "\n",
    "Run the below function ‘intro’ by passing your first name, last name and NYU net ID as arguments. (successful run should print ‘Welcome to PUI 2020 \"first name\" \"last name\". Your NYU id is \"NYU net ID\"’ as output).\n",
    "\n",
    "\n",
    "Create a new branch in your homework repository. (Branches are important if you need to have a separate workflow in the project or if multiple people are working collaboratively on the same repo.)\n",
    "\n",
    "\n",
    "Upload this file (with printed output) in the new branch created. Write ‘add HW with output’ as commit message.\n",
    "\n",
    "\n",
    "Create a pull request to merge the new branch with the main branch. Review the changes and merge the pull request."
   ]
  },
  {
   "cell_type": "code",
   "execution_count": null,
   "metadata": {},
   "outputs": [],
   "source": []
  },
  {
   "cell_type": "code",
   "execution_count": 4,
   "metadata": {},
   "outputs": [],
   "source": [
    "def intro(first_name, last_name, netID):\n",
    "    \n",
    "    print('Welcome to PUI 2020', first_name, last_name, \". Your NYU id is\", netID)"
   ]
  },
  {
   "cell_type": "code",
   "execution_count": 5,
   "metadata": {},
   "outputs": [],
   "source": [
    "## pass your arguments in the function, remember to pass them as strings\n",
    "\n"
   ]
  },
  {
   "cell_type": "code",
   "execution_count": 6,
   "metadata": {},
   "outputs": [
    {
     "name": "stdout",
     "output_type": "stream",
     "text": [
      "Welcome to PUI 2020 Keren Zhang . Your NYU id is kz837\n"
     ]
    }
   ],
   "source": [
    "intro(\"Keren\",\"Zhang\",\"kz837\");"
   ]
  },
  {
   "cell_type": "code",
   "execution_count": null,
   "metadata": {},
   "outputs": [],
   "source": []
  }
 ],
 "metadata": {
  "kernelspec": {
   "display_name": "Python 3",
   "language": "python",
   "name": "python3"
  },
  "language_info": {
   "codemirror_mode": {
    "name": "ipython",
    "version": 3
   },
   "file_extension": ".py",
   "mimetype": "text/x-python",
   "name": "python",
   "nbconvert_exporter": "python",
   "pygments_lexer": "ipython3",
   "version": "3.8.3"
  }
 },
 "nbformat": 4,
 "nbformat_minor": 2
}
